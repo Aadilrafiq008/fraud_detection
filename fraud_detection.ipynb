{
  "nbformat": 4,
  "nbformat_minor": 0,
  "metadata": {
    "colab": {
      "provenance": [],
      "collapsed_sections": []
    },
    "kernelspec": {
      "name": "python3",
      "display_name": "Python 3"
    },
    "language_info": {
      "name": "python"
    },
    "accelerator": "GPU",
    "gpuClass": "standard"
  },
  "cells": [
    {
      "cell_type": "code",
      "execution_count": null,
      "metadata": {
        "id": "zrA4pTGloceZ"
      },
      "outputs": [],
      "source": [
        "import pandas as pd\n",
        "import numpy as np\n",
        "from sklearn.linear_model import LogisticRegression\n",
        "from sklearn.model_selection import train_test_split\n",
        "from sklearn.metrics import accuracy_score"
      ]
    },
    {
      "cell_type": "code",
      "source": [
        "CCdf = pd.read_csv('/content/creditcard.csv')\n"
      ],
      "metadata": {
        "id": "7dKfiN3ko9Ec"
      },
      "execution_count": null,
      "outputs": []
    },
    {
      "cell_type": "code",
      "source": [
        "CCdf.Amount.describe()\n",
        "# CCdf['Amount'].discribe"
      ],
      "metadata": {
        "colab": {
          "base_uri": "https://localhost:8080/"
        },
        "id": "qAS8mOou57uK",
        "outputId": "cc4e2f64-34c3-47b0-aace-72af46e3ad31"
      },
      "execution_count": null,
      "outputs": [
        {
          "output_type": "execute_result",
          "data": {
            "text/plain": [
              "count    284807.000000\n",
              "mean         88.349619\n",
              "std         250.120109\n",
              "min           0.000000\n",
              "25%           5.600000\n",
              "50%          22.000000\n",
              "75%          77.165000\n",
              "max       25691.160000\n",
              "Name: Amount, dtype: float64"
            ]
          },
          "metadata": {},
          "execution_count": 59
        }
      ]
    },
    {
      "cell_type": "code",
      "source": [
        "CCdf.isnull().sum()"
      ],
      "metadata": {
        "colab": {
          "base_uri": "https://localhost:8080/"
        },
        "id": "93XU0QxQo9HH",
        "outputId": "b495ff4e-d408-4701-cc09-3db0b9565931"
      },
      "execution_count": null,
      "outputs": [
        {
          "output_type": "execute_result",
          "data": {
            "text/plain": [
              "Time      0\n",
              "V1        0\n",
              "V2        0\n",
              "V3        0\n",
              "V4        0\n",
              "V5        0\n",
              "V6        0\n",
              "V7        0\n",
              "V8        0\n",
              "V9        0\n",
              "V10       0\n",
              "V11       0\n",
              "V12       0\n",
              "V13       0\n",
              "V14       0\n",
              "V15       0\n",
              "V16       1\n",
              "V17       1\n",
              "V18       1\n",
              "V19       1\n",
              "V20       1\n",
              "V21       1\n",
              "V22       1\n",
              "V23       1\n",
              "V24       1\n",
              "V25       1\n",
              "V26       1\n",
              "V27       1\n",
              "V28       1\n",
              "Amount    1\n",
              "Class     1\n",
              "dtype: int64"
            ]
          },
          "metadata": {},
          "execution_count": 18
        }
      ]
    },
    {
      "cell_type": "code",
      "source": [
        "CCdf['Class'].value_counts()"
      ],
      "metadata": {
        "colab": {
          "base_uri": "https://localhost:8080/"
        },
        "id": "npJM4eSwo9Ju",
        "outputId": "13aea00b-9ec1-4dae-ddc9-53d4b2019285"
      },
      "execution_count": null,
      "outputs": [
        {
          "output_type": "execute_result",
          "data": {
            "text/plain": [
              "0.0    59348\n",
              "1.0      162\n",
              "Name: Class, dtype: int64"
            ]
          },
          "metadata": {},
          "execution_count": 20
        }
      ]
    },
    {
      "cell_type": "markdown",
      "source": [
        "if you try to extracting by using list comprihension then the return type would be list \n"
      ],
      "metadata": {
        "id": "SGBVRezu3eET"
      }
    },
    {
      "cell_type": "code",
      "source": [
        "FCCdf = [x for x in CCdf['Class'] if x == 1] "
      ],
      "metadata": {
        "id": "Qp5zFAcSo9Md"
      },
      "execution_count": null,
      "outputs": []
    },
    {
      "cell_type": "code",
      "source": [
        "LCCdf = [CCdf.Class == 0]"
      ],
      "metadata": {
        "id": "hLZzFFMno9OU"
      },
      "execution_count": null,
      "outputs": []
    },
    {
      "cell_type": "code",
      "source": [
        "print(type(FCCdf))\n",
        "print(type(LCCdf))"
      ],
      "metadata": {
        "colab": {
          "base_uri": "https://localhost:8080/"
        },
        "id": "riMeArs0o9TF",
        "outputId": "995154fa-4479-46f0-e462-2c68b7f1271a"
      },
      "execution_count": null,
      "outputs": [
        {
          "output_type": "stream",
          "name": "stdout",
          "text": [
            "<class 'list'>\n",
            "<class 'list'>\n"
          ]
        }
      ]
    },
    {
      "cell_type": "markdown",
      "source": [
        "but if you try return by using this method then return type would be pandas serise"
      ],
      "metadata": {
        "id": "taDFNo-63o1V"
      }
    },
    {
      "cell_type": "code",
      "source": [
        "FCCdf = CCdf[CCdf.Class == 1]\n",
        "LCCdf = CCdf[CCdf.Class == 0]"
      ],
      "metadata": {
        "id": "oo2F1yCxo9V_"
      },
      "execution_count": null,
      "outputs": []
    },
    {
      "cell_type": "code",
      "source": [
        "FCCdf"
      ],
      "metadata": {
        "colab": {
          "base_uri": "https://localhost:8080/",
          "height": 488
        },
        "id": "1XaIyGX47WNS",
        "outputId": "0f913b21-dc38-47d0-ea44-60c168d09df2"
      },
      "execution_count": null,
      "outputs": [
        {
          "output_type": "execute_result",
          "data": {
            "text/plain": [
              "        Time        V1        V2        V3        V4        V5        V6  \\\n",
              "0          0 -1.359807 -0.072781  2.536347  1.378155 -0.338321  0.462388   \n",
              "1          0  1.191857  0.266151  0.166480  0.448154  0.060018 -0.082361   \n",
              "2          1 -1.358354 -1.340163  1.773209  0.379780 -0.503198  1.800499   \n",
              "3          1 -0.966272 -0.185226  1.792993 -0.863291 -0.010309  1.247203   \n",
              "4          2 -1.158233  0.877737  1.548718  0.403034 -0.407193  0.095921   \n",
              "...      ...       ...       ...       ...       ...       ...       ...   \n",
              "59505  48869  1.015555 -1.162519 -0.165417 -0.601962 -1.139883 -1.046207   \n",
              "59506  48869  0.846847 -0.740109  1.734920  0.973051 -0.908455  1.955373   \n",
              "59507  48870 -0.293073  0.287754  1.076909 -1.498707  0.030389 -0.094332   \n",
              "59508  48870 -2.728620  2.789470 -0.019110 -0.345316 -0.983749 -0.665490   \n",
              "59509  48870 -0.118399  1.825136 -0.621394  0.294209  1.095673 -2.164019   \n",
              "\n",
              "             V7        V8        V9  ...       V21       V22       V23  \\\n",
              "0      0.239599  0.098698  0.363787  ... -0.018307  0.277838 -0.110474   \n",
              "1     -0.078803  0.085102 -0.255425  ... -0.225775 -0.638672  0.101288   \n",
              "2      0.791461  0.247676 -1.514654  ...  0.247998  0.771679  0.909412   \n",
              "3      0.237609  0.377436 -1.387024  ... -0.108300  0.005274 -0.190321   \n",
              "4      0.592941 -0.270533  0.817739  ... -0.009431  0.798278 -0.137458   \n",
              "...         ...       ...       ...  ...       ...       ...       ...   \n",
              "59505  0.049107 -0.386753 -0.830868  ... -0.332061 -0.812667 -0.178818   \n",
              "59506 -1.282036  0.785884  1.530679  ...  0.108577  0.830381  0.111284   \n",
              "59507  0.592840 -0.236917 -1.592913  ... -0.702190 -1.566421  0.092062   \n",
              "59508 -0.452156  1.174699  0.050815  ... -0.080194 -0.098998  0.034646   \n",
              "59509  1.102808 -1.244775 -0.734142  ...  0.595335 -0.750841 -0.418729   \n",
              "\n",
              "            V24       V25       V26       V27       V28  Amount  Class  \n",
              "0      0.066928  0.128539 -0.189115  0.133558 -0.021053  149.62    0.0  \n",
              "1     -0.339846  0.167170  0.125895 -0.008983  0.014724    2.69    0.0  \n",
              "2     -0.689281 -0.327642 -0.139097 -0.055353 -0.059752  378.66    0.0  \n",
              "3     -1.175575  0.647376 -0.221929  0.062723  0.061458  123.50    0.0  \n",
              "4      0.141267 -0.206010  0.502292  0.219422  0.215153   69.99    0.0  \n",
              "...         ...       ...       ...       ...       ...     ...    ...  \n",
              "59505  0.482971  0.288369  1.448585 -0.135061  0.029738  218.00    0.0  \n",
              "59506 -0.338765 -0.038436  0.663828  0.107897  0.023937   44.00    0.0  \n",
              "59507 -0.345236 -0.562907  0.566838 -0.462258 -0.231659   26.00    0.0  \n",
              "59508 -0.090487  0.025606  0.152858 -0.341898 -0.263507    1.99    0.0  \n",
              "59509  0.595806  1.411615 -0.561365  0.139271  0.280751    1.00    0.0  \n",
              "\n",
              "[59348 rows x 31 columns]"
            ],
            "text/html": [
              "\n",
              "  <div id=\"df-297e4470-4360-4f5a-90b1-3608762c0f18\">\n",
              "    <div class=\"colab-df-container\">\n",
              "      <div>\n",
              "<style scoped>\n",
              "    .dataframe tbody tr th:only-of-type {\n",
              "        vertical-align: middle;\n",
              "    }\n",
              "\n",
              "    .dataframe tbody tr th {\n",
              "        vertical-align: top;\n",
              "    }\n",
              "\n",
              "    .dataframe thead th {\n",
              "        text-align: right;\n",
              "    }\n",
              "</style>\n",
              "<table border=\"1\" class=\"dataframe\">\n",
              "  <thead>\n",
              "    <tr style=\"text-align: right;\">\n",
              "      <th></th>\n",
              "      <th>Time</th>\n",
              "      <th>V1</th>\n",
              "      <th>V2</th>\n",
              "      <th>V3</th>\n",
              "      <th>V4</th>\n",
              "      <th>V5</th>\n",
              "      <th>V6</th>\n",
              "      <th>V7</th>\n",
              "      <th>V8</th>\n",
              "      <th>V9</th>\n",
              "      <th>...</th>\n",
              "      <th>V21</th>\n",
              "      <th>V22</th>\n",
              "      <th>V23</th>\n",
              "      <th>V24</th>\n",
              "      <th>V25</th>\n",
              "      <th>V26</th>\n",
              "      <th>V27</th>\n",
              "      <th>V28</th>\n",
              "      <th>Amount</th>\n",
              "      <th>Class</th>\n",
              "    </tr>\n",
              "  </thead>\n",
              "  <tbody>\n",
              "    <tr>\n",
              "      <th>0</th>\n",
              "      <td>0</td>\n",
              "      <td>-1.359807</td>\n",
              "      <td>-0.072781</td>\n",
              "      <td>2.536347</td>\n",
              "      <td>1.378155</td>\n",
              "      <td>-0.338321</td>\n",
              "      <td>0.462388</td>\n",
              "      <td>0.239599</td>\n",
              "      <td>0.098698</td>\n",
              "      <td>0.363787</td>\n",
              "      <td>...</td>\n",
              "      <td>-0.018307</td>\n",
              "      <td>0.277838</td>\n",
              "      <td>-0.110474</td>\n",
              "      <td>0.066928</td>\n",
              "      <td>0.128539</td>\n",
              "      <td>-0.189115</td>\n",
              "      <td>0.133558</td>\n",
              "      <td>-0.021053</td>\n",
              "      <td>149.62</td>\n",
              "      <td>0.0</td>\n",
              "    </tr>\n",
              "    <tr>\n",
              "      <th>1</th>\n",
              "      <td>0</td>\n",
              "      <td>1.191857</td>\n",
              "      <td>0.266151</td>\n",
              "      <td>0.166480</td>\n",
              "      <td>0.448154</td>\n",
              "      <td>0.060018</td>\n",
              "      <td>-0.082361</td>\n",
              "      <td>-0.078803</td>\n",
              "      <td>0.085102</td>\n",
              "      <td>-0.255425</td>\n",
              "      <td>...</td>\n",
              "      <td>-0.225775</td>\n",
              "      <td>-0.638672</td>\n",
              "      <td>0.101288</td>\n",
              "      <td>-0.339846</td>\n",
              "      <td>0.167170</td>\n",
              "      <td>0.125895</td>\n",
              "      <td>-0.008983</td>\n",
              "      <td>0.014724</td>\n",
              "      <td>2.69</td>\n",
              "      <td>0.0</td>\n",
              "    </tr>\n",
              "    <tr>\n",
              "      <th>2</th>\n",
              "      <td>1</td>\n",
              "      <td>-1.358354</td>\n",
              "      <td>-1.340163</td>\n",
              "      <td>1.773209</td>\n",
              "      <td>0.379780</td>\n",
              "      <td>-0.503198</td>\n",
              "      <td>1.800499</td>\n",
              "      <td>0.791461</td>\n",
              "      <td>0.247676</td>\n",
              "      <td>-1.514654</td>\n",
              "      <td>...</td>\n",
              "      <td>0.247998</td>\n",
              "      <td>0.771679</td>\n",
              "      <td>0.909412</td>\n",
              "      <td>-0.689281</td>\n",
              "      <td>-0.327642</td>\n",
              "      <td>-0.139097</td>\n",
              "      <td>-0.055353</td>\n",
              "      <td>-0.059752</td>\n",
              "      <td>378.66</td>\n",
              "      <td>0.0</td>\n",
              "    </tr>\n",
              "    <tr>\n",
              "      <th>3</th>\n",
              "      <td>1</td>\n",
              "      <td>-0.966272</td>\n",
              "      <td>-0.185226</td>\n",
              "      <td>1.792993</td>\n",
              "      <td>-0.863291</td>\n",
              "      <td>-0.010309</td>\n",
              "      <td>1.247203</td>\n",
              "      <td>0.237609</td>\n",
              "      <td>0.377436</td>\n",
              "      <td>-1.387024</td>\n",
              "      <td>...</td>\n",
              "      <td>-0.108300</td>\n",
              "      <td>0.005274</td>\n",
              "      <td>-0.190321</td>\n",
              "      <td>-1.175575</td>\n",
              "      <td>0.647376</td>\n",
              "      <td>-0.221929</td>\n",
              "      <td>0.062723</td>\n",
              "      <td>0.061458</td>\n",
              "      <td>123.50</td>\n",
              "      <td>0.0</td>\n",
              "    </tr>\n",
              "    <tr>\n",
              "      <th>4</th>\n",
              "      <td>2</td>\n",
              "      <td>-1.158233</td>\n",
              "      <td>0.877737</td>\n",
              "      <td>1.548718</td>\n",
              "      <td>0.403034</td>\n",
              "      <td>-0.407193</td>\n",
              "      <td>0.095921</td>\n",
              "      <td>0.592941</td>\n",
              "      <td>-0.270533</td>\n",
              "      <td>0.817739</td>\n",
              "      <td>...</td>\n",
              "      <td>-0.009431</td>\n",
              "      <td>0.798278</td>\n",
              "      <td>-0.137458</td>\n",
              "      <td>0.141267</td>\n",
              "      <td>-0.206010</td>\n",
              "      <td>0.502292</td>\n",
              "      <td>0.219422</td>\n",
              "      <td>0.215153</td>\n",
              "      <td>69.99</td>\n",
              "      <td>0.0</td>\n",
              "    </tr>\n",
              "    <tr>\n",
              "      <th>...</th>\n",
              "      <td>...</td>\n",
              "      <td>...</td>\n",
              "      <td>...</td>\n",
              "      <td>...</td>\n",
              "      <td>...</td>\n",
              "      <td>...</td>\n",
              "      <td>...</td>\n",
              "      <td>...</td>\n",
              "      <td>...</td>\n",
              "      <td>...</td>\n",
              "      <td>...</td>\n",
              "      <td>...</td>\n",
              "      <td>...</td>\n",
              "      <td>...</td>\n",
              "      <td>...</td>\n",
              "      <td>...</td>\n",
              "      <td>...</td>\n",
              "      <td>...</td>\n",
              "      <td>...</td>\n",
              "      <td>...</td>\n",
              "      <td>...</td>\n",
              "    </tr>\n",
              "    <tr>\n",
              "      <th>59505</th>\n",
              "      <td>48869</td>\n",
              "      <td>1.015555</td>\n",
              "      <td>-1.162519</td>\n",
              "      <td>-0.165417</td>\n",
              "      <td>-0.601962</td>\n",
              "      <td>-1.139883</td>\n",
              "      <td>-1.046207</td>\n",
              "      <td>0.049107</td>\n",
              "      <td>-0.386753</td>\n",
              "      <td>-0.830868</td>\n",
              "      <td>...</td>\n",
              "      <td>-0.332061</td>\n",
              "      <td>-0.812667</td>\n",
              "      <td>-0.178818</td>\n",
              "      <td>0.482971</td>\n",
              "      <td>0.288369</td>\n",
              "      <td>1.448585</td>\n",
              "      <td>-0.135061</td>\n",
              "      <td>0.029738</td>\n",
              "      <td>218.00</td>\n",
              "      <td>0.0</td>\n",
              "    </tr>\n",
              "    <tr>\n",
              "      <th>59506</th>\n",
              "      <td>48869</td>\n",
              "      <td>0.846847</td>\n",
              "      <td>-0.740109</td>\n",
              "      <td>1.734920</td>\n",
              "      <td>0.973051</td>\n",
              "      <td>-0.908455</td>\n",
              "      <td>1.955373</td>\n",
              "      <td>-1.282036</td>\n",
              "      <td>0.785884</td>\n",
              "      <td>1.530679</td>\n",
              "      <td>...</td>\n",
              "      <td>0.108577</td>\n",
              "      <td>0.830381</td>\n",
              "      <td>0.111284</td>\n",
              "      <td>-0.338765</td>\n",
              "      <td>-0.038436</td>\n",
              "      <td>0.663828</td>\n",
              "      <td>0.107897</td>\n",
              "      <td>0.023937</td>\n",
              "      <td>44.00</td>\n",
              "      <td>0.0</td>\n",
              "    </tr>\n",
              "    <tr>\n",
              "      <th>59507</th>\n",
              "      <td>48870</td>\n",
              "      <td>-0.293073</td>\n",
              "      <td>0.287754</td>\n",
              "      <td>1.076909</td>\n",
              "      <td>-1.498707</td>\n",
              "      <td>0.030389</td>\n",
              "      <td>-0.094332</td>\n",
              "      <td>0.592840</td>\n",
              "      <td>-0.236917</td>\n",
              "      <td>-1.592913</td>\n",
              "      <td>...</td>\n",
              "      <td>-0.702190</td>\n",
              "      <td>-1.566421</td>\n",
              "      <td>0.092062</td>\n",
              "      <td>-0.345236</td>\n",
              "      <td>-0.562907</td>\n",
              "      <td>0.566838</td>\n",
              "      <td>-0.462258</td>\n",
              "      <td>-0.231659</td>\n",
              "      <td>26.00</td>\n",
              "      <td>0.0</td>\n",
              "    </tr>\n",
              "    <tr>\n",
              "      <th>59508</th>\n",
              "      <td>48870</td>\n",
              "      <td>-2.728620</td>\n",
              "      <td>2.789470</td>\n",
              "      <td>-0.019110</td>\n",
              "      <td>-0.345316</td>\n",
              "      <td>-0.983749</td>\n",
              "      <td>-0.665490</td>\n",
              "      <td>-0.452156</td>\n",
              "      <td>1.174699</td>\n",
              "      <td>0.050815</td>\n",
              "      <td>...</td>\n",
              "      <td>-0.080194</td>\n",
              "      <td>-0.098998</td>\n",
              "      <td>0.034646</td>\n",
              "      <td>-0.090487</td>\n",
              "      <td>0.025606</td>\n",
              "      <td>0.152858</td>\n",
              "      <td>-0.341898</td>\n",
              "      <td>-0.263507</td>\n",
              "      <td>1.99</td>\n",
              "      <td>0.0</td>\n",
              "    </tr>\n",
              "    <tr>\n",
              "      <th>59509</th>\n",
              "      <td>48870</td>\n",
              "      <td>-0.118399</td>\n",
              "      <td>1.825136</td>\n",
              "      <td>-0.621394</td>\n",
              "      <td>0.294209</td>\n",
              "      <td>1.095673</td>\n",
              "      <td>-2.164019</td>\n",
              "      <td>1.102808</td>\n",
              "      <td>-1.244775</td>\n",
              "      <td>-0.734142</td>\n",
              "      <td>...</td>\n",
              "      <td>0.595335</td>\n",
              "      <td>-0.750841</td>\n",
              "      <td>-0.418729</td>\n",
              "      <td>0.595806</td>\n",
              "      <td>1.411615</td>\n",
              "      <td>-0.561365</td>\n",
              "      <td>0.139271</td>\n",
              "      <td>0.280751</td>\n",
              "      <td>1.00</td>\n",
              "      <td>0.0</td>\n",
              "    </tr>\n",
              "  </tbody>\n",
              "</table>\n",
              "<p>59348 rows × 31 columns</p>\n",
              "</div>\n",
              "      <button class=\"colab-df-convert\" onclick=\"convertToInteractive('df-297e4470-4360-4f5a-90b1-3608762c0f18')\"\n",
              "              title=\"Convert this dataframe to an interactive table.\"\n",
              "              style=\"display:none;\">\n",
              "        \n",
              "  <svg xmlns=\"http://www.w3.org/2000/svg\" height=\"24px\"viewBox=\"0 0 24 24\"\n",
              "       width=\"24px\">\n",
              "    <path d=\"M0 0h24v24H0V0z\" fill=\"none\"/>\n",
              "    <path d=\"M18.56 5.44l.94 2.06.94-2.06 2.06-.94-2.06-.94-.94-2.06-.94 2.06-2.06.94zm-11 1L8.5 8.5l.94-2.06 2.06-.94-2.06-.94L8.5 2.5l-.94 2.06-2.06.94zm10 10l.94 2.06.94-2.06 2.06-.94-2.06-.94-.94-2.06-.94 2.06-2.06.94z\"/><path d=\"M17.41 7.96l-1.37-1.37c-.4-.4-.92-.59-1.43-.59-.52 0-1.04.2-1.43.59L10.3 9.45l-7.72 7.72c-.78.78-.78 2.05 0 2.83L4 21.41c.39.39.9.59 1.41.59.51 0 1.02-.2 1.41-.59l7.78-7.78 2.81-2.81c.8-.78.8-2.07 0-2.86zM5.41 20L4 18.59l7.72-7.72 1.47 1.35L5.41 20z\"/>\n",
              "  </svg>\n",
              "      </button>\n",
              "      \n",
              "  <style>\n",
              "    .colab-df-container {\n",
              "      display:flex;\n",
              "      flex-wrap:wrap;\n",
              "      gap: 12px;\n",
              "    }\n",
              "\n",
              "    .colab-df-convert {\n",
              "      background-color: #E8F0FE;\n",
              "      border: none;\n",
              "      border-radius: 50%;\n",
              "      cursor: pointer;\n",
              "      display: none;\n",
              "      fill: #1967D2;\n",
              "      height: 32px;\n",
              "      padding: 0 0 0 0;\n",
              "      width: 32px;\n",
              "    }\n",
              "\n",
              "    .colab-df-convert:hover {\n",
              "      background-color: #E2EBFA;\n",
              "      box-shadow: 0px 1px 2px rgba(60, 64, 67, 0.3), 0px 1px 3px 1px rgba(60, 64, 67, 0.15);\n",
              "      fill: #174EA6;\n",
              "    }\n",
              "\n",
              "    [theme=dark] .colab-df-convert {\n",
              "      background-color: #3B4455;\n",
              "      fill: #D2E3FC;\n",
              "    }\n",
              "\n",
              "    [theme=dark] .colab-df-convert:hover {\n",
              "      background-color: #434B5C;\n",
              "      box-shadow: 0px 1px 3px 1px rgba(0, 0, 0, 0.15);\n",
              "      filter: drop-shadow(0px 1px 2px rgba(0, 0, 0, 0.3));\n",
              "      fill: #FFFFFF;\n",
              "    }\n",
              "  </style>\n",
              "\n",
              "      <script>\n",
              "        const buttonEl =\n",
              "          document.querySelector('#df-297e4470-4360-4f5a-90b1-3608762c0f18 button.colab-df-convert');\n",
              "        buttonEl.style.display =\n",
              "          google.colab.kernel.accessAllowed ? 'block' : 'none';\n",
              "\n",
              "        async function convertToInteractive(key) {\n",
              "          const element = document.querySelector('#df-297e4470-4360-4f5a-90b1-3608762c0f18');\n",
              "          const dataTable =\n",
              "            await google.colab.kernel.invokeFunction('convertToInteractive',\n",
              "                                                     [key], {});\n",
              "          if (!dataTable) return;\n",
              "\n",
              "          const docLinkHtml = 'Like what you see? Visit the ' +\n",
              "            '<a target=\"_blank\" href=https://colab.research.google.com/notebooks/data_table.ipynb>data table notebook</a>'\n",
              "            + ' to learn more about interactive tables.';\n",
              "          element.innerHTML = '';\n",
              "          dataTable['output_type'] = 'display_data';\n",
              "          await google.colab.output.renderOutput(dataTable, element);\n",
              "          const docLink = document.createElement('div');\n",
              "          docLink.innerHTML = docLinkHtml;\n",
              "          element.appendChild(docLink);\n",
              "        }\n",
              "      </script>\n",
              "    </div>\n",
              "  </div>\n",
              "  "
            ]
          },
          "metadata": {},
          "execution_count": 56
        }
      ]
    },
    {
      "cell_type": "code",
      "source": [
        "type(FCCdf)"
      ],
      "metadata": {
        "colab": {
          "base_uri": "https://localhost:8080/"
        },
        "id": "nqfjmV_W7WQ1",
        "outputId": "3d78d5ee-56e4-443e-8b0f-13ee9bfad05b"
      },
      "execution_count": null,
      "outputs": [
        {
          "output_type": "execute_result",
          "data": {
            "text/plain": [
              "pandas.core.frame.DataFrame"
            ]
          },
          "metadata": {},
          "execution_count": 57
        }
      ]
    },
    {
      "cell_type": "code",
      "source": [
        "type(CCdf)"
      ],
      "metadata": {
        "colab": {
          "base_uri": "https://localhost:8080/"
        },
        "id": "043WiAOz7WT3",
        "outputId": "10bd7bf8-4631-4430-93ae-e8991561dff7"
      },
      "execution_count": null,
      "outputs": [
        {
          "output_type": "execute_result",
          "data": {
            "text/plain": [
              "pandas.core.frame.DataFrame"
            ]
          },
          "metadata": {},
          "execution_count": 58
        }
      ]
    },
    {
      "cell_type": "code",
      "source": [
        "type(FCCdf)\n",
        "LCCdf.Amount.describe()"
      ],
      "metadata": {
        "colab": {
          "base_uri": "https://localhost:8080/"
        },
        "id": "40brTB3Do9X_",
        "outputId": "ef6f1a40-706a-4113-c375-84b6929cb516"
      },
      "execution_count": null,
      "outputs": [
        {
          "output_type": "execute_result",
          "data": {
            "text/plain": [
              "count     162.000000\n",
              "mean       93.565988\n",
              "std       224.658775\n",
              "min         0.000000\n",
              "25%         1.000000\n",
              "50%         4.245000\n",
              "75%        99.990000\n",
              "max      1809.680000\n",
              "Name: Amount, dtype: float64"
            ]
          },
          "metadata": {},
          "execution_count": 55
        }
      ]
    },
    {
      "cell_type": "code",
      "source": [
        "FCCdf.Amount.describe()"
      ],
      "metadata": {
        "colab": {
          "base_uri": "https://localhost:8080/"
        },
        "id": "zFbpix0Q3_vf",
        "outputId": "450bbacc-39f9-40de-eb00-b6185735e039"
      },
      "execution_count": null,
      "outputs": [
        {
          "output_type": "execute_result",
          "data": {
            "text/plain": [
              "count    59348.000000\n",
              "mean        95.423013\n",
              "std        270.229826\n",
              "min          0.000000\n",
              "25%          7.690000\n",
              "50%         25.985000\n",
              "75%         87.440000\n",
              "max      19656.530000\n",
              "Name: Amount, dtype: float64"
            ]
          },
          "metadata": {},
          "execution_count": 54
        }
      ]
    },
    {
      "cell_type": "code",
      "source": [
        "len(FCCdf)"
      ],
      "metadata": {
        "colab": {
          "base_uri": "https://localhost:8080/"
        },
        "id": "LrbEpgVx3_0B",
        "outputId": "3f3bb64f-cbaf-47a0-fde6-22d2e29ec2b8"
      },
      "execution_count": null,
      "outputs": [
        {
          "output_type": "execute_result",
          "data": {
            "text/plain": [
              "492"
            ]
          },
          "metadata": {},
          "execution_count": 62
        }
      ]
    },
    {
      "cell_type": "markdown",
      "source": [
        "i used random sample buliding \n"
      ],
      "metadata": {
        "id": "NG-QdKic9LXS"
      }
    },
    {
      "cell_type": "code",
      "source": [
        "LCCdf_sample = LCCdf.sample(n=492)"
      ],
      "metadata": {
        "id": "rCMeoOuA3_32"
      },
      "execution_count": null,
      "outputs": []
    },
    {
      "cell_type": "code",
      "source": [
        "LCCdf_sample"
      ],
      "metadata": {
        "colab": {
          "base_uri": "https://localhost:8080/",
          "height": 488
        },
        "id": "BA0m4Kri3_56",
        "outputId": "234338d2-d920-45f1-b331-0021e0ede848"
      },
      "execution_count": null,
      "outputs": [
        {
          "output_type": "execute_result",
          "data": {
            "text/plain": [
              "            Time        V1        V2        V3        V4        V5        V6  \\\n",
              "57166    47789.0 -0.719899  1.220424  0.605348  0.943174  0.456421  1.030273   \n",
              "107362   70403.0  1.278475  0.055375 -0.538034 -0.212573  0.392902 -0.465038   \n",
              "161881  114603.0  2.068307 -0.010048 -1.599085  0.632112  0.141415 -1.387717   \n",
              "212649  138943.0 -1.392710  0.294687  1.465104 -0.584523 -0.814380 -0.108101   \n",
              "166892  118369.0 -0.913524  0.447631  0.154716 -1.020939  1.700559 -0.116499   \n",
              "...          ...       ...       ...       ...       ...       ...       ...   \n",
              "104230   68967.0 -0.377578  1.187583  1.531697  0.181767 -0.173221 -1.280861   \n",
              "92419    63925.0  1.018787  0.208884  0.122463  0.988080  0.536471  0.784696   \n",
              "28757    35144.0 -3.624407 -3.444179  1.383825  0.671228  3.359470 -1.907431   \n",
              "122535   76599.0  1.192568  0.151508  0.603083  0.562269 -0.572917 -0.795432   \n",
              "115775   74010.0 -1.974394  0.688329  1.878350  0.529442 -0.243130  0.559832   \n",
              "\n",
              "              V7        V8        V9  ...       V21       V22       V23  \\\n",
              "57166   0.202787  0.737486 -0.681264  ... -0.008771  0.175288 -0.227451   \n",
              "107362  0.454431 -0.312613 -0.163743  ... -0.483904 -1.523599 -0.033919   \n",
              "161881  0.500134 -0.433518  0.432780  ... -0.029869  0.094024  0.071192   \n",
              "212649  0.547725  0.557829 -0.343144  ... -0.028407 -0.605100  0.226332   \n",
              "166892  1.419788 -0.096083 -0.917902  ... -0.003021 -0.189352 -0.521967   \n",
              "...          ...       ...       ...  ...       ...       ...       ...   \n",
              "104230  0.751914 -0.137867 -0.514187  ... -0.223272 -0.546031  0.040432   \n",
              "92419   0.097114  0.265112 -0.232157  ...  0.124635  0.539671  0.056360   \n",
              "28757  -1.890538  0.524031 -0.164909  ...  0.010934 -0.272591  1.042326   \n",
              "122535 -0.064411 -0.043944 -0.151944  ... -0.195027 -0.638878  0.150843   \n",
              "115775 -0.065336  0.384616  0.943560  ... -0.289396 -0.681008 -0.312659   \n",
              "\n",
              "             V24       V25       V26       V27       V28  Amount  Class  \n",
              "57166  -1.133802  0.071176 -0.166743  0.296183  0.121373   23.14      0  \n",
              "107362 -0.959750  0.305375  0.698051 -0.106806  0.003161   70.18      0  \n",
              "161881  0.083773  0.196853  0.378095 -0.087413 -0.073936   10.92      0  \n",
              "212649  0.020659  0.248599 -0.147497 -0.141553 -0.021456  173.70      0  \n",
              "166892 -1.331709  1.174346  0.745059 -0.114909  0.011631   74.99      0  \n",
              "...          ...       ...       ...       ...       ...     ...    ...  \n",
              "104230  0.881974 -0.213561  0.037101  0.250502  0.104805    1.29      0  \n",
              "92419  -0.629198  0.377174 -0.252169  0.075092  0.008556   18.57      0  \n",
              "28757  -0.256357 -0.218607  1.040928 -0.069138  0.741453    0.00      0  \n",
              "122535  0.516639  0.140887  0.065622 -0.036927  0.010722    6.99      0  \n",
              "115775 -0.000957  0.016099 -0.782716 -0.955488 -0.118403   13.99      0  \n",
              "\n",
              "[492 rows x 31 columns]"
            ],
            "text/html": [
              "\n",
              "  <div id=\"df-4fa3ceca-6a72-4a51-95d8-9d8e2e49bb7c\">\n",
              "    <div class=\"colab-df-container\">\n",
              "      <div>\n",
              "<style scoped>\n",
              "    .dataframe tbody tr th:only-of-type {\n",
              "        vertical-align: middle;\n",
              "    }\n",
              "\n",
              "    .dataframe tbody tr th {\n",
              "        vertical-align: top;\n",
              "    }\n",
              "\n",
              "    .dataframe thead th {\n",
              "        text-align: right;\n",
              "    }\n",
              "</style>\n",
              "<table border=\"1\" class=\"dataframe\">\n",
              "  <thead>\n",
              "    <tr style=\"text-align: right;\">\n",
              "      <th></th>\n",
              "      <th>Time</th>\n",
              "      <th>V1</th>\n",
              "      <th>V2</th>\n",
              "      <th>V3</th>\n",
              "      <th>V4</th>\n",
              "      <th>V5</th>\n",
              "      <th>V6</th>\n",
              "      <th>V7</th>\n",
              "      <th>V8</th>\n",
              "      <th>V9</th>\n",
              "      <th>...</th>\n",
              "      <th>V21</th>\n",
              "      <th>V22</th>\n",
              "      <th>V23</th>\n",
              "      <th>V24</th>\n",
              "      <th>V25</th>\n",
              "      <th>V26</th>\n",
              "      <th>V27</th>\n",
              "      <th>V28</th>\n",
              "      <th>Amount</th>\n",
              "      <th>Class</th>\n",
              "    </tr>\n",
              "  </thead>\n",
              "  <tbody>\n",
              "    <tr>\n",
              "      <th>57166</th>\n",
              "      <td>47789.0</td>\n",
              "      <td>-0.719899</td>\n",
              "      <td>1.220424</td>\n",
              "      <td>0.605348</td>\n",
              "      <td>0.943174</td>\n",
              "      <td>0.456421</td>\n",
              "      <td>1.030273</td>\n",
              "      <td>0.202787</td>\n",
              "      <td>0.737486</td>\n",
              "      <td>-0.681264</td>\n",
              "      <td>...</td>\n",
              "      <td>-0.008771</td>\n",
              "      <td>0.175288</td>\n",
              "      <td>-0.227451</td>\n",
              "      <td>-1.133802</td>\n",
              "      <td>0.071176</td>\n",
              "      <td>-0.166743</td>\n",
              "      <td>0.296183</td>\n",
              "      <td>0.121373</td>\n",
              "      <td>23.14</td>\n",
              "      <td>0</td>\n",
              "    </tr>\n",
              "    <tr>\n",
              "      <th>107362</th>\n",
              "      <td>70403.0</td>\n",
              "      <td>1.278475</td>\n",
              "      <td>0.055375</td>\n",
              "      <td>-0.538034</td>\n",
              "      <td>-0.212573</td>\n",
              "      <td>0.392902</td>\n",
              "      <td>-0.465038</td>\n",
              "      <td>0.454431</td>\n",
              "      <td>-0.312613</td>\n",
              "      <td>-0.163743</td>\n",
              "      <td>...</td>\n",
              "      <td>-0.483904</td>\n",
              "      <td>-1.523599</td>\n",
              "      <td>-0.033919</td>\n",
              "      <td>-0.959750</td>\n",
              "      <td>0.305375</td>\n",
              "      <td>0.698051</td>\n",
              "      <td>-0.106806</td>\n",
              "      <td>0.003161</td>\n",
              "      <td>70.18</td>\n",
              "      <td>0</td>\n",
              "    </tr>\n",
              "    <tr>\n",
              "      <th>161881</th>\n",
              "      <td>114603.0</td>\n",
              "      <td>2.068307</td>\n",
              "      <td>-0.010048</td>\n",
              "      <td>-1.599085</td>\n",
              "      <td>0.632112</td>\n",
              "      <td>0.141415</td>\n",
              "      <td>-1.387717</td>\n",
              "      <td>0.500134</td>\n",
              "      <td>-0.433518</td>\n",
              "      <td>0.432780</td>\n",
              "      <td>...</td>\n",
              "      <td>-0.029869</td>\n",
              "      <td>0.094024</td>\n",
              "      <td>0.071192</td>\n",
              "      <td>0.083773</td>\n",
              "      <td>0.196853</td>\n",
              "      <td>0.378095</td>\n",
              "      <td>-0.087413</td>\n",
              "      <td>-0.073936</td>\n",
              "      <td>10.92</td>\n",
              "      <td>0</td>\n",
              "    </tr>\n",
              "    <tr>\n",
              "      <th>212649</th>\n",
              "      <td>138943.0</td>\n",
              "      <td>-1.392710</td>\n",
              "      <td>0.294687</td>\n",
              "      <td>1.465104</td>\n",
              "      <td>-0.584523</td>\n",
              "      <td>-0.814380</td>\n",
              "      <td>-0.108101</td>\n",
              "      <td>0.547725</td>\n",
              "      <td>0.557829</td>\n",
              "      <td>-0.343144</td>\n",
              "      <td>...</td>\n",
              "      <td>-0.028407</td>\n",
              "      <td>-0.605100</td>\n",
              "      <td>0.226332</td>\n",
              "      <td>0.020659</td>\n",
              "      <td>0.248599</td>\n",
              "      <td>-0.147497</td>\n",
              "      <td>-0.141553</td>\n",
              "      <td>-0.021456</td>\n",
              "      <td>173.70</td>\n",
              "      <td>0</td>\n",
              "    </tr>\n",
              "    <tr>\n",
              "      <th>166892</th>\n",
              "      <td>118369.0</td>\n",
              "      <td>-0.913524</td>\n",
              "      <td>0.447631</td>\n",
              "      <td>0.154716</td>\n",
              "      <td>-1.020939</td>\n",
              "      <td>1.700559</td>\n",
              "      <td>-0.116499</td>\n",
              "      <td>1.419788</td>\n",
              "      <td>-0.096083</td>\n",
              "      <td>-0.917902</td>\n",
              "      <td>...</td>\n",
              "      <td>-0.003021</td>\n",
              "      <td>-0.189352</td>\n",
              "      <td>-0.521967</td>\n",
              "      <td>-1.331709</td>\n",
              "      <td>1.174346</td>\n",
              "      <td>0.745059</td>\n",
              "      <td>-0.114909</td>\n",
              "      <td>0.011631</td>\n",
              "      <td>74.99</td>\n",
              "      <td>0</td>\n",
              "    </tr>\n",
              "    <tr>\n",
              "      <th>...</th>\n",
              "      <td>...</td>\n",
              "      <td>...</td>\n",
              "      <td>...</td>\n",
              "      <td>...</td>\n",
              "      <td>...</td>\n",
              "      <td>...</td>\n",
              "      <td>...</td>\n",
              "      <td>...</td>\n",
              "      <td>...</td>\n",
              "      <td>...</td>\n",
              "      <td>...</td>\n",
              "      <td>...</td>\n",
              "      <td>...</td>\n",
              "      <td>...</td>\n",
              "      <td>...</td>\n",
              "      <td>...</td>\n",
              "      <td>...</td>\n",
              "      <td>...</td>\n",
              "      <td>...</td>\n",
              "      <td>...</td>\n",
              "      <td>...</td>\n",
              "    </tr>\n",
              "    <tr>\n",
              "      <th>104230</th>\n",
              "      <td>68967.0</td>\n",
              "      <td>-0.377578</td>\n",
              "      <td>1.187583</td>\n",
              "      <td>1.531697</td>\n",
              "      <td>0.181767</td>\n",
              "      <td>-0.173221</td>\n",
              "      <td>-1.280861</td>\n",
              "      <td>0.751914</td>\n",
              "      <td>-0.137867</td>\n",
              "      <td>-0.514187</td>\n",
              "      <td>...</td>\n",
              "      <td>-0.223272</td>\n",
              "      <td>-0.546031</td>\n",
              "      <td>0.040432</td>\n",
              "      <td>0.881974</td>\n",
              "      <td>-0.213561</td>\n",
              "      <td>0.037101</td>\n",
              "      <td>0.250502</td>\n",
              "      <td>0.104805</td>\n",
              "      <td>1.29</td>\n",
              "      <td>0</td>\n",
              "    </tr>\n",
              "    <tr>\n",
              "      <th>92419</th>\n",
              "      <td>63925.0</td>\n",
              "      <td>1.018787</td>\n",
              "      <td>0.208884</td>\n",
              "      <td>0.122463</td>\n",
              "      <td>0.988080</td>\n",
              "      <td>0.536471</td>\n",
              "      <td>0.784696</td>\n",
              "      <td>0.097114</td>\n",
              "      <td>0.265112</td>\n",
              "      <td>-0.232157</td>\n",
              "      <td>...</td>\n",
              "      <td>0.124635</td>\n",
              "      <td>0.539671</td>\n",
              "      <td>0.056360</td>\n",
              "      <td>-0.629198</td>\n",
              "      <td>0.377174</td>\n",
              "      <td>-0.252169</td>\n",
              "      <td>0.075092</td>\n",
              "      <td>0.008556</td>\n",
              "      <td>18.57</td>\n",
              "      <td>0</td>\n",
              "    </tr>\n",
              "    <tr>\n",
              "      <th>28757</th>\n",
              "      <td>35144.0</td>\n",
              "      <td>-3.624407</td>\n",
              "      <td>-3.444179</td>\n",
              "      <td>1.383825</td>\n",
              "      <td>0.671228</td>\n",
              "      <td>3.359470</td>\n",
              "      <td>-1.907431</td>\n",
              "      <td>-1.890538</td>\n",
              "      <td>0.524031</td>\n",
              "      <td>-0.164909</td>\n",
              "      <td>...</td>\n",
              "      <td>0.010934</td>\n",
              "      <td>-0.272591</td>\n",
              "      <td>1.042326</td>\n",
              "      <td>-0.256357</td>\n",
              "      <td>-0.218607</td>\n",
              "      <td>1.040928</td>\n",
              "      <td>-0.069138</td>\n",
              "      <td>0.741453</td>\n",
              "      <td>0.00</td>\n",
              "      <td>0</td>\n",
              "    </tr>\n",
              "    <tr>\n",
              "      <th>122535</th>\n",
              "      <td>76599.0</td>\n",
              "      <td>1.192568</td>\n",
              "      <td>0.151508</td>\n",
              "      <td>0.603083</td>\n",
              "      <td>0.562269</td>\n",
              "      <td>-0.572917</td>\n",
              "      <td>-0.795432</td>\n",
              "      <td>-0.064411</td>\n",
              "      <td>-0.043944</td>\n",
              "      <td>-0.151944</td>\n",
              "      <td>...</td>\n",
              "      <td>-0.195027</td>\n",
              "      <td>-0.638878</td>\n",
              "      <td>0.150843</td>\n",
              "      <td>0.516639</td>\n",
              "      <td>0.140887</td>\n",
              "      <td>0.065622</td>\n",
              "      <td>-0.036927</td>\n",
              "      <td>0.010722</td>\n",
              "      <td>6.99</td>\n",
              "      <td>0</td>\n",
              "    </tr>\n",
              "    <tr>\n",
              "      <th>115775</th>\n",
              "      <td>74010.0</td>\n",
              "      <td>-1.974394</td>\n",
              "      <td>0.688329</td>\n",
              "      <td>1.878350</td>\n",
              "      <td>0.529442</td>\n",
              "      <td>-0.243130</td>\n",
              "      <td>0.559832</td>\n",
              "      <td>-0.065336</td>\n",
              "      <td>0.384616</td>\n",
              "      <td>0.943560</td>\n",
              "      <td>...</td>\n",
              "      <td>-0.289396</td>\n",
              "      <td>-0.681008</td>\n",
              "      <td>-0.312659</td>\n",
              "      <td>-0.000957</td>\n",
              "      <td>0.016099</td>\n",
              "      <td>-0.782716</td>\n",
              "      <td>-0.955488</td>\n",
              "      <td>-0.118403</td>\n",
              "      <td>13.99</td>\n",
              "      <td>0</td>\n",
              "    </tr>\n",
              "  </tbody>\n",
              "</table>\n",
              "<p>492 rows × 31 columns</p>\n",
              "</div>\n",
              "      <button class=\"colab-df-convert\" onclick=\"convertToInteractive('df-4fa3ceca-6a72-4a51-95d8-9d8e2e49bb7c')\"\n",
              "              title=\"Convert this dataframe to an interactive table.\"\n",
              "              style=\"display:none;\">\n",
              "        \n",
              "  <svg xmlns=\"http://www.w3.org/2000/svg\" height=\"24px\"viewBox=\"0 0 24 24\"\n",
              "       width=\"24px\">\n",
              "    <path d=\"M0 0h24v24H0V0z\" fill=\"none\"/>\n",
              "    <path d=\"M18.56 5.44l.94 2.06.94-2.06 2.06-.94-2.06-.94-.94-2.06-.94 2.06-2.06.94zm-11 1L8.5 8.5l.94-2.06 2.06-.94-2.06-.94L8.5 2.5l-.94 2.06-2.06.94zm10 10l.94 2.06.94-2.06 2.06-.94-2.06-.94-.94-2.06-.94 2.06-2.06.94z\"/><path d=\"M17.41 7.96l-1.37-1.37c-.4-.4-.92-.59-1.43-.59-.52 0-1.04.2-1.43.59L10.3 9.45l-7.72 7.72c-.78.78-.78 2.05 0 2.83L4 21.41c.39.39.9.59 1.41.59.51 0 1.02-.2 1.41-.59l7.78-7.78 2.81-2.81c.8-.78.8-2.07 0-2.86zM5.41 20L4 18.59l7.72-7.72 1.47 1.35L5.41 20z\"/>\n",
              "  </svg>\n",
              "      </button>\n",
              "      \n",
              "  <style>\n",
              "    .colab-df-container {\n",
              "      display:flex;\n",
              "      flex-wrap:wrap;\n",
              "      gap: 12px;\n",
              "    }\n",
              "\n",
              "    .colab-df-convert {\n",
              "      background-color: #E8F0FE;\n",
              "      border: none;\n",
              "      border-radius: 50%;\n",
              "      cursor: pointer;\n",
              "      display: none;\n",
              "      fill: #1967D2;\n",
              "      height: 32px;\n",
              "      padding: 0 0 0 0;\n",
              "      width: 32px;\n",
              "    }\n",
              "\n",
              "    .colab-df-convert:hover {\n",
              "      background-color: #E2EBFA;\n",
              "      box-shadow: 0px 1px 2px rgba(60, 64, 67, 0.3), 0px 1px 3px 1px rgba(60, 64, 67, 0.15);\n",
              "      fill: #174EA6;\n",
              "    }\n",
              "\n",
              "    [theme=dark] .colab-df-convert {\n",
              "      background-color: #3B4455;\n",
              "      fill: #D2E3FC;\n",
              "    }\n",
              "\n",
              "    [theme=dark] .colab-df-convert:hover {\n",
              "      background-color: #434B5C;\n",
              "      box-shadow: 0px 1px 3px 1px rgba(0, 0, 0, 0.15);\n",
              "      filter: drop-shadow(0px 1px 2px rgba(0, 0, 0, 0.3));\n",
              "      fill: #FFFFFF;\n",
              "    }\n",
              "  </style>\n",
              "\n",
              "      <script>\n",
              "        const buttonEl =\n",
              "          document.querySelector('#df-4fa3ceca-6a72-4a51-95d8-9d8e2e49bb7c button.colab-df-convert');\n",
              "        buttonEl.style.display =\n",
              "          google.colab.kernel.accessAllowed ? 'block' : 'none';\n",
              "\n",
              "        async function convertToInteractive(key) {\n",
              "          const element = document.querySelector('#df-4fa3ceca-6a72-4a51-95d8-9d8e2e49bb7c');\n",
              "          const dataTable =\n",
              "            await google.colab.kernel.invokeFunction('convertToInteractive',\n",
              "                                                     [key], {});\n",
              "          if (!dataTable) return;\n",
              "\n",
              "          const docLinkHtml = 'Like what you see? Visit the ' +\n",
              "            '<a target=\"_blank\" href=https://colab.research.google.com/notebooks/data_table.ipynb>data table notebook</a>'\n",
              "            + ' to learn more about interactive tables.';\n",
              "          element.innerHTML = '';\n",
              "          dataTable['output_type'] = 'display_data';\n",
              "          await google.colab.output.renderOutput(dataTable, element);\n",
              "          const docLink = document.createElement('div');\n",
              "          docLink.innerHTML = docLinkHtml;\n",
              "          element.appendChild(docLink);\n",
              "        }\n",
              "      </script>\n",
              "    </div>\n",
              "  </div>\n",
              "  "
            ]
          },
          "metadata": {},
          "execution_count": 65
        }
      ]
    },
    {
      "cell_type": "code",
      "source": [
        "new_dataset = pd.concat([LCCdf_sample, FCCdf], axis=0)"
      ],
      "metadata": {
        "id": "MUGfFI8b3_72"
      },
      "execution_count": null,
      "outputs": []
    },
    {
      "cell_type": "code",
      "source": [
        "new_dataset.shape"
      ],
      "metadata": {
        "colab": {
          "base_uri": "https://localhost:8080/"
        },
        "id": "TgulC4PA3_9k",
        "outputId": "11284455-de9b-46c7-c6d4-f126849d70b2"
      },
      "execution_count": null,
      "outputs": [
        {
          "output_type": "execute_result",
          "data": {
            "text/plain": [
              "(984, 31)"
            ]
          },
          "metadata": {},
          "execution_count": 69
        }
      ]
    },
    {
      "cell_type": "code",
      "source": [
        "X = new_dataset.drop(columns='Class', axis=1) \n",
        "y = new_dataset.Class"
      ],
      "metadata": {
        "id": "U4FDHAfZ4AA_"
      },
      "execution_count": null,
      "outputs": []
    },
    {
      "cell_type": "code",
      "source": [
        "X_train, X_test, y_train, y_test = train_test_split(X, y, test_size=0.2, random_state=2)"
      ],
      "metadata": {
        "id": "uQN1cpdo4ADU"
      },
      "execution_count": null,
      "outputs": []
    },
    {
      "cell_type": "code",
      "source": [
        "model = LogisticRegression()"
      ],
      "metadata": {
        "id": "MZYNjsG74AGa"
      },
      "execution_count": null,
      "outputs": []
    },
    {
      "cell_type": "code",
      "source": [
        "model.fit(X_train, y_train)"
      ],
      "metadata": {
        "colab": {
          "base_uri": "https://localhost:8080/"
        },
        "id": "8XS7AF7OBtqC",
        "outputId": "67985d75-ee6b-4a97-cdce-a1891818f23b"
      },
      "execution_count": null,
      "outputs": [
        {
          "output_type": "execute_result",
          "data": {
            "text/plain": [
              "LogisticRegression()"
            ]
          },
          "metadata": {},
          "execution_count": 74
        }
      ]
    },
    {
      "cell_type": "code",
      "source": [
        "model.predict(X_test)"
      ],
      "metadata": {
        "colab": {
          "base_uri": "https://localhost:8080/"
        },
        "id": "4pzT3A3CBtsR",
        "outputId": "ed1d4435-c82b-47f4-a82b-03ef352f117d"
      },
      "execution_count": null,
      "outputs": [
        {
          "output_type": "execute_result",
          "data": {
            "text/plain": [
              "array([0, 1, 1, 0, 1, 1, 0, 1, 0, 1, 0, 1, 1, 1, 1, 1, 0, 1, 1, 1, 1, 0,\n",
              "       0, 0, 1, 0, 0, 0, 0, 0, 1, 1, 0, 1, 0, 0, 1, 0, 0, 0, 0, 1, 0, 0,\n",
              "       0, 1, 0, 1, 0, 0, 0, 0, 1, 1, 1, 0, 0, 0, 0, 1, 1, 1, 0, 1, 1, 1,\n",
              "       1, 1, 1, 1, 0, 1, 1, 0, 1, 0, 0, 0, 1, 1, 1, 0, 0, 0, 1, 1, 0, 0,\n",
              "       1, 0, 1, 1, 0, 0, 1, 1, 0, 0, 1, 1, 0, 1, 1, 0, 1, 1, 0, 0, 1, 0,\n",
              "       0, 1, 1, 0, 0, 1, 0, 1, 0, 0, 0, 0, 1, 1, 1, 0, 1, 1, 0, 1, 0, 0,\n",
              "       0, 0, 1, 1, 1, 1, 0, 1, 1, 0, 1, 1, 0, 1, 1, 0, 0, 0, 0, 1, 1, 1,\n",
              "       1, 1, 0, 0, 0, 1, 1, 0, 0, 1, 1, 1, 1, 0, 1, 1, 0, 0, 0, 0, 0, 0,\n",
              "       1, 1, 1, 1, 0, 1, 0, 1, 1, 0, 1, 0, 1, 0, 0, 1, 1, 0, 1, 1, 0])"
            ]
          },
          "metadata": {},
          "execution_count": 76
        }
      ]
    },
    {
      "cell_type": "code",
      "source": [
        "import pickle as pk"
      ],
      "metadata": {
        "id": "pMWxDqdDBtuf"
      },
      "execution_count": null,
      "outputs": []
    },
    {
      "cell_type": "code",
      "source": [
        "\n",
        "pk.dump(model, open('model.pkl', 'wb'))"
      ],
      "metadata": {
        "id": "-CcarNAjBtzu"
      },
      "execution_count": null,
      "outputs": []
    }
  ]
}